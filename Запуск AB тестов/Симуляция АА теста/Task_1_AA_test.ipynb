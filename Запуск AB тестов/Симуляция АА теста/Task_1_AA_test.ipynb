{
 "cells": [
  {
   "cell_type": "code",
   "execution_count": 3,
   "id": "2726f2cc-39fc-4704-a389-d7386bfd7951",
   "metadata": {},
   "outputs": [],
   "source": [
    "import pandahouse\n",
    "import pandas as pd\n",
    "import numpy as np\n",
    "import matplotlib.pyplot as plt\n",
    "import seaborn as sns\n",
    "from scipy import stats"
   ]
  },
  {
   "cell_type": "code",
   "execution_count": 4,
   "id": "98091e97-d619-49d7-b21e-f384e0898be3",
   "metadata": {},
   "outputs": [],
   "source": [
    "connection = {\n",
    "    'host': 'https://clickhouse.lab.karpov.courses',\n",
    "    'password': 'dpo_python_2020',\n",
    "    'user': 'student',\n",
    "    'database': 'simulator_20220320'\n",
    "}"
   ]
  },
  {
   "cell_type": "code",
   "execution_count": 9,
   "id": "48132de5-a005-4e52-83e9-b98c15844ff6",
   "metadata": {},
   "outputs": [],
   "source": [
    "q = '''SELECT exp_group, \n",
    "    user_id,\n",
    "    sum(action = 'like') as likes,\n",
    "    sum(action = 'view') as views,\n",
    "    likes/views as ctr\n",
    "FROM {db}.feed_actions \n",
    "WHERE toDate(time) between '2022-03-08' and '2022-03-14'\n",
    "    and exp_group in (2,3)\n",
    "GROUP BY exp_group, user_id\n",
    "'''"
   ]
  },
  {
   "cell_type": "code",
   "execution_count": 10,
   "id": "f0877ec5-eadb-4630-82d9-ac59159a1561",
   "metadata": {},
   "outputs": [
    {
     "data": {
      "text/html": [
       "<div>\n",
       "<style scoped>\n",
       "    .dataframe tbody tr th:only-of-type {\n",
       "        vertical-align: middle;\n",
       "    }\n",
       "\n",
       "    .dataframe tbody tr th {\n",
       "        vertical-align: top;\n",
       "    }\n",
       "\n",
       "    .dataframe thead th {\n",
       "        text-align: right;\n",
       "    }\n",
       "</style>\n",
       "<table border=\"1\" class=\"dataframe\">\n",
       "  <thead>\n",
       "    <tr style=\"text-align: right;\">\n",
       "      <th></th>\n",
       "      <th>exp_group</th>\n",
       "      <th>user_id</th>\n",
       "      <th>likes</th>\n",
       "      <th>views</th>\n",
       "      <th>ctr</th>\n",
       "    </tr>\n",
       "  </thead>\n",
       "  <tbody>\n",
       "    <tr>\n",
       "      <th>0</th>\n",
       "      <td>3</td>\n",
       "      <td>115383</td>\n",
       "      <td>11</td>\n",
       "      <td>36</td>\n",
       "      <td>0.305556</td>\n",
       "    </tr>\n",
       "    <tr>\n",
       "      <th>1</th>\n",
       "      <td>3</td>\n",
       "      <td>123580</td>\n",
       "      <td>15</td>\n",
       "      <td>92</td>\n",
       "      <td>0.163043</td>\n",
       "    </tr>\n",
       "    <tr>\n",
       "      <th>2</th>\n",
       "      <td>2</td>\n",
       "      <td>131473</td>\n",
       "      <td>26</td>\n",
       "      <td>148</td>\n",
       "      <td>0.175676</td>\n",
       "    </tr>\n",
       "    <tr>\n",
       "      <th>3</th>\n",
       "      <td>2</td>\n",
       "      <td>23985</td>\n",
       "      <td>12</td>\n",
       "      <td>66</td>\n",
       "      <td>0.181818</td>\n",
       "    </tr>\n",
       "    <tr>\n",
       "      <th>4</th>\n",
       "      <td>2</td>\n",
       "      <td>24523</td>\n",
       "      <td>17</td>\n",
       "      <td>120</td>\n",
       "      <td>0.141667</td>\n",
       "    </tr>\n",
       "    <tr>\n",
       "      <th>...</th>\n",
       "      <td>...</td>\n",
       "      <td>...</td>\n",
       "      <td>...</td>\n",
       "      <td>...</td>\n",
       "      <td>...</td>\n",
       "    </tr>\n",
       "    <tr>\n",
       "      <th>17044</th>\n",
       "      <td>3</td>\n",
       "      <td>122008</td>\n",
       "      <td>4</td>\n",
       "      <td>31</td>\n",
       "      <td>0.129032</td>\n",
       "    </tr>\n",
       "    <tr>\n",
       "      <th>17045</th>\n",
       "      <td>2</td>\n",
       "      <td>25383</td>\n",
       "      <td>16</td>\n",
       "      <td>57</td>\n",
       "      <td>0.280702</td>\n",
       "    </tr>\n",
       "    <tr>\n",
       "      <th>17046</th>\n",
       "      <td>3</td>\n",
       "      <td>122190</td>\n",
       "      <td>25</td>\n",
       "      <td>74</td>\n",
       "      <td>0.337838</td>\n",
       "    </tr>\n",
       "    <tr>\n",
       "      <th>17047</th>\n",
       "      <td>2</td>\n",
       "      <td>108927</td>\n",
       "      <td>8</td>\n",
       "      <td>33</td>\n",
       "      <td>0.242424</td>\n",
       "    </tr>\n",
       "    <tr>\n",
       "      <th>17048</th>\n",
       "      <td>2</td>\n",
       "      <td>17310</td>\n",
       "      <td>2</td>\n",
       "      <td>14</td>\n",
       "      <td>0.142857</td>\n",
       "    </tr>\n",
       "  </tbody>\n",
       "</table>\n",
       "<p>17049 rows × 5 columns</p>\n",
       "</div>"
      ],
      "text/plain": [
       "       exp_group  user_id  likes  views       ctr\n",
       "0              3   115383     11     36  0.305556\n",
       "1              3   123580     15     92  0.163043\n",
       "2              2   131473     26    148  0.175676\n",
       "3              2    23985     12     66  0.181818\n",
       "4              2    24523     17    120  0.141667\n",
       "...          ...      ...    ...    ...       ...\n",
       "17044          3   122008      4     31  0.129032\n",
       "17045          2    25383     16     57  0.280702\n",
       "17046          3   122190     25     74  0.337838\n",
       "17047          2   108927      8     33  0.242424\n",
       "17048          2    17310      2     14  0.142857\n",
       "\n",
       "[17049 rows x 5 columns]"
      ]
     },
     "execution_count": 10,
     "metadata": {},
     "output_type": "execute_result"
    }
   ],
   "source": [
    "df = pandahouse.read_clickhouse(q, connection=connection)\n",
    "df"
   ]
  },
  {
   "cell_type": "code",
   "execution_count": 11,
   "id": "c9a2f603-3938-4ea2-8122-10a771b4d988",
   "metadata": {},
   "outputs": [
    {
     "data": {
      "text/plain": [
       "exp_group\n",
       "2    8480\n",
       "3    8569\n",
       "Name: user_id, dtype: int64"
      ]
     },
     "execution_count": 11,
     "metadata": {},
     "output_type": "execute_result"
    }
   ],
   "source": [
    "df.groupby('exp_group')['user_id'].nunique()"
   ]
  },
  {
   "cell_type": "code",
   "execution_count": 12,
   "id": "d1f67470-2092-46ea-8bef-1abc4be256e4",
   "metadata": {},
   "outputs": [
    {
     "data": {
      "image/png": "[encoded data removed]",
      "text/plain": [
       "<Figure size 842.4x595.44 with 1 Axes>"
      ]
     },
     "metadata": {},
     "output_type": "display_data"
    }
   ],
   "source": [
    "# Сделаем графики в seaborn покрупнее\n",
    "sns.set(rc={'figure.figsize':(11.7,8.27)})\n",
    "\n",
    "groups = sns.histplot(data = df, \n",
    "              x='ctr', \n",
    "              hue='exp_group', \n",
    "              palette = ['r', 'b'],\n",
    "              alpha=0.5,\n",
    "              kde=False)"
   ]
  },
  {
   "cell_type": "code",
   "execution_count": 13,
   "id": "6220881f-7a78-48d1-9e3d-5f95490f0560",
   "metadata": {},
   "outputs": [],
   "source": [
    "# проведем 10 000 АА тестов и запишем значения p-value  в одноименную переменную \n",
    "\n",
    "p_values = []\n",
    "\n",
    "for _ in range(10000):\n",
    "    group_1 = df[df.exp_group == 2].sample(500, replace=True)\n",
    "    group_2 = df[df.exp_group == 3].sample(500, replace=True)\n",
    "    p_values.append(stats.ttest_ind(group_1.ctr, group_2.ctr, equal_var=False).pvalue)"
   ]
  },
  {
   "cell_type": "code",
   "execution_count": 26,
   "id": "9263b824-0704-4007-80c8-a2fda998fde1",
   "metadata": {},
   "outputs": [
    {
     "data": {
      "text/plain": [
       "<AxesSubplot:ylabel='Count'>"
      ]
     },
     "execution_count": 26,
     "metadata": {},
     "output_type": "execute_result"
    },
    {
     "data": {
      "image/png": "[encoded data removed]",
      "text/plain": [
       "<Figure size 842.4x595.44 with 1 Axes>"
      ]
     },
     "metadata": {},
     "output_type": "display_data"
    }
   ],
   "source": [
    "sns.histplot(p_values)"
   ]
  },
  {
   "cell_type": "code",
   "execution_count": 27,
   "id": "a4b51ff5-15f7-4139-8794-d49f49de5919",
   "metadata": {},
   "outputs": [
    {
     "name": "stdout",
     "output_type": "stream",
     "text": [
      "5.1\n"
     ]
    }
   ],
   "source": [
    "# На графике видим, что p-value распределено достаточно равномерно \n",
    "# Посмотрим в скольки процентах случаев p-value оказывается меньше или равен alpпф = 0,05\n",
    "\n",
    "count_values = 0\n",
    "\n",
    "for i in p_values: \n",
    "    if i <= 0.05: \n",
    "        count_values += 1 \n",
    "\n",
    "print(count_values / 10000 * 100)"
   ]
  },
  {
   "cell_type": "code",
   "execution_count": 28,
   "id": "5093dc2e-a75b-4167-8a35-0adc0e6227e9",
   "metadata": {},
   "outputs": [
    {
     "name": "stdout",
     "output_type": "stream",
     "text": [
      "Мы можем видеть, что процент p-value меньше 0.05 в 5.1% случаев, это значит, что в почти в 94.9% процентах случаев тест не показывает отличий между группами, значит система спитевания работает исправно\n"
     ]
    }
   ],
   "source": [
    "print(f'Мы можем видеть, что процент p-value меньше 0.05 в {round(count_values / 10000 * 100, 2)}% случаев, это значит, что в почти в {round(100 - count_values / 10000 * 100, 2)}% процентах случаев тест не показывает отличий между группами, значит система спитевания работает исправно')"
   ]
  },
  {
   "cell_type": "code",
   "execution_count": null,
   "id": "faf14e4f-edd5-49e0-bf18-d4ea7152a018",
   "metadata": {},
   "outputs": [],
   "source": []
  }
 ],
 "metadata": {
  "kernelspec": {
   "display_name": "Python 3 (ipykernel)",
   "language": "python",
   "name": "python3"
  },
  "language_info": {
   "codemirror_mode": {
    "name": "ipython",
    "version": 3
   },
   "file_extension": ".py",
   "mimetype": "text/x-python",
   "name": "python",
   "nbconvert_exporter": "python",
   "pygments_lexer": "ipython3",
   "version": "3.8.10"
  }
 },
 "nbformat": 4,
 "nbformat_minor": 5
}
