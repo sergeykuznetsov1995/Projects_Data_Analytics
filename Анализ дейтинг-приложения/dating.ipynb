{
 "cells": [
  {
   "cell_type": "markdown",
   "metadata": {},
   "source": [
    "## Содержание\n",
    "\n",
    "- **[Постановка задачи](#Постановка-задачи)**\n",
    "- **[Описание данных](#Описание-данных)**\n",
    "- **[Импорт библиотек и кастомные функции](#Импорт-библиотек-и-кастомные-функции)**\n",
    "- **[1. Загрузка данных](#1.-Загрузка-данных)**\n",
    "- **[2. Предварительный анализ](#2.-Предварительный-анализ)**\n",
    "- **[3. Проверка качества сплитования. А/А тесты](#3.-Проверка-качества-сплитования.-А/А-тесты)**\n",
    "- **[4. Успешен ли эксперимент в общем](#4.-Успешен-ли-эксперимент-в-общем)**\n",
    "- **[5. Тип подписки](#5.-Тип-подписки)**\n",
    "- **[6. Страны](#6.-Страны)**\n",
    "- **[7. Возраст](#7.-Возраст)**\n",
    "- **[Заключение](#Заключение)**"
   ]
  },
  {
   "cell_type": "markdown",
   "metadata": {},
   "source": [
    "## Постановка задачи\n",
    "\n",
    "Представьте, что вы работаете в крупном дейтинговом приложении. Помимо базовых функций, в приложении также имеется премиум-подписка, которая дает доступ к ряду важных дополнительных возможностей. Был проведен AА/Б тест, в рамках которого для новых пользователей из нескольких стран была изменена стоимость премиум-подписки при покупке через две новые платежные системы. При этом стоимость пробного периода оставалась прежней.\n",
    "\n",
    "Проверьте:\n",
    "- Был ли эксперимент успешен в целом.\n",
    "- Проанализируйте, имеет ли нововведение смысл среди каких-либо конкретных групп пользователей.\n",
    "\n",
    "* *Деньги за подписку списываются ежемесячно до тех пор, пока пользователь её не отменит.*"
   ]
  },
  {
   "cell_type": "markdown",
   "metadata": {},
   "source": [
    "## Описание данных\n",
    "\n",
    "Представьте, что вы работаете в крупном дейтинговом приложении.\n",
    "\n",
    "Помимо базовых функций, в приложении также имеется премиум-подписка, которая дает доступ к ряду важных дополнительных возможностей. Был проведен A/B тест, в рамках которого для новых пользователей из нескольких стран была изменена стоимость премиум-подписки* при покупке через две новые платежные системы. При этом стоимость пробного периода оставалась прежней.\n",
    "\n",
    "Проверьте:\n",
    "\n",
    "- Был ли эксперимент успешен в целом.\n",
    "- Проанализируйте, имеет ли нововведение смысл среди каких-либо конкретных групп пользователей.\n",
    "\n",
    "**Деньги за подписку списываются ежемесячно до тех пор, пока пользователь её не отменит.*\n",
    "\n",
    "Данные\n",
    "\n",
    "Всего есть три группы: тестовая (test), контрольная 1 (control_1) и контрольная 2 (control_2).\n",
    "Для каждой из них:\n",
    "\n",
    "**users_*.csv** – информация о пользователях:\n",
    "- uid – идентификатор пользователя\n",
    "- age – возраст\n",
    "- attraction_coeff –  коэффициент привлекательности (от 0 до 1000, $\\frac{лайки}{просмотры}*1000$ ) \n",
    "- coins – число монеток (внутренняя валюта)\n",
    "- country – страна  \n",
    "- visit_days – в какие дни после регистрации пользователь посещал приложение (напр. в 1, затем в 7)\n",
    "- gender – пол\n",
    "- age_filter_start  – фильтр поиска, мин. значение \n",
    "- age_filter_end  – фильтр поиска, макс. значение \n",
    "- views_count – число полученных оценок \n",
    "- was_premium – был ли когда-либо премиум (либо пробный период премиум-статуса, либо купленный за деньги)\n",
    "- is_premium –  является ли премиум\n",
    "- total_revenue – нормированная выручка\n",
    " \n",
    "**transactions_*.csv** – информация о платежах пользователей:\n",
    "\n",
    "- uid – идентификатор пользователя\n",
    "- country – страна\n",
    "- joined_at – дата и время регистрации\n",
    "- paid_at – дата и время покупки\n",
    "- revenue – нормированная выручка\n",
    "- payment_id – идентификатор платежа\n",
    "- from_page – откуда пользователь перешел на страницу оплаты\n",
    "- product_type – тип продукта (trial_premium – пробная премиум-подписка, premium_no_trial – премиум-подписка без пробной, coins – подписка за внутреннюю валюту, other_type – другое)"
   ]
  },
  {
   "cell_type": "markdown",
   "metadata": {},
   "source": [
    "## Импорт библиотек и кастомные функции"
   ]
  },
  {
   "cell_type": "code",
   "execution_count": 86,
   "metadata": {},
   "outputs": [],
   "source": [
    "import pandas as pd\n",
    "import numpy as np\n",
    "\n",
    "import seaborn as sns\n",
    "import matplotlib.pyplot as plt\n",
    "\n",
    "from datetime import datetime\n",
    "from scipy.stats import mannwhitneyu\n",
    "from scipy import stats\n",
    "\n",
    "import warnings\n",
    "warnings.filterwarnings('ignore')\n",
    "\n",
    "%matplotlib inline\n",
    "sns.set(rc = {'figure.figsize':(16,9)}, style=\"whitegrid\")"
   ]
  },
  {
   "cell_type": "code",
   "execution_count": 87,
   "metadata": {},
   "outputs": [],
   "source": [
    "def aa_test(statistic, data1, data2, n_s=500):\n",
    "    \"\"\"\n",
    "    Функция aa_test возвращает количество ложноположительных случаев \n",
    "    (проверяет, что количество ложноположительных случаев не превышает альфа)\n",
    "    \n",
    "    Параметры:\n",
    "    - использумый статистический оценщик\n",
    "    - числовые значения первой выборки\n",
    "    - числовые значения второй выборки\"\"\"\n",
    "    simulations = 10000\n",
    "    res = []\n",
    "    if n_s > min([len(data1), len(data2)]):\n",
    "        n_s = min([len(data1), len(data2)])\n",
    "\n",
    "    for i in range(simulations):\n",
    "        s1 = data1.sample(n_s, replace=False).values\n",
    "        s2 = data2.sample(n_s, replace=False).values\n",
    "        res.append(statistic(s1, s2)[1])  # сохраняем pvalue\n",
    "\n",
    "    return sum(np.array(res) < 0.05) / simulations"
   ]
  },
  {
   "cell_type": "code",
   "execution_count": 88,
   "metadata": {},
   "outputs": [],
   "source": [
    "def correct_date(df):\n",
    "    '''Принимает дафрейм, меняет его, если дата совершения покупки меньше даты регистрации'''\n",
    "    wrong_date_test = df.query('paid_at < joined_at')\n",
    "    correct_date_test = df.query('paid_at > joined_at')\n",
    "    wrong_date_test['paid_at'] = wrong_date_test['paid_at'].apply(lambda x: datetime.strftime(x, '%Y-%d-%m %H:%M:%S'))\n",
    "    wrong_date_test['paid_at'] = pd.to_datetime(wrong_date_test['paid_at'])\n",
    "    df = pd.concat([wrong_date_test, correct_date_test])\n",
    "    return df"
   ]
  },
  {
   "cell_type": "code",
   "execution_count": 89,
   "metadata": {},
   "outputs": [],
   "source": [
    "def process_data(df):\n",
    "    '''Принимает дафрейм, заменяет пропущенные значения на 0, меняет типы колонок'''\n",
    "    if 'revenue' in df.columns:\n",
    "        df = df.astype({'country': 'string', \\\n",
    "                        'from_page': 'string', \\\n",
    "                        'product_type': 'string',\n",
    "                        'payment_id' : 'int', \\\n",
    "                        'uid': 'int',\n",
    "                        'revenue': 'int'})\n",
    "        df = df.drop_duplicates()\n",
    "    else:\n",
    "        df.fillna({'was_premium': 0, 'is_premium': 0, 'coins': 0}, inplace=True)\n",
    "        df = df.astype({'coins': 'int', \\\n",
    "                        'country': 'string', \\\n",
    "                        'visit_days': 'string', \\\n",
    "                        'was_premium': 'int', \\\n",
    "                        'is_premium': 'int'\n",
    "                       })\n",
    "        df = df.drop_duplicates()\n",
    "    return df"
   ]
  },
  {
   "cell_type": "code",
   "execution_count": 90,
   "metadata": {},
   "outputs": [],
   "source": [
    "def change_age(df):\n",
    "    '''Принимает дафрейм, заменяет возраст пользователя, который указал очень большой возраст,\n",
    "       на среднее между мин. значением и макс. значением фильтра поиска данного пользователя'''\n",
    "    df.loc[(df.age > 85), 'age'] = (df.age_filter_start + df.age_filter_end) // 2\n",
    "    return df"
   ]
  },
  {
   "cell_type": "markdown",
   "metadata": {},
   "source": [
    "## 1. Загрузка данных"
   ]
  },
  {
   "cell_type": "code",
   "execution_count": 91,
   "metadata": {},
   "outputs": [],
   "source": [
    "# Пользователи\n",
    "users_test = pd.read_csv('https://getfile.dokpub.com/yandex/get/https://disk.yandex.ru/d/L8HxRYDn2l4h9A', sep=';')\n",
    "users_control_1 = pd.read_csv('https://getfile.dokpub.com/yandex/get/https://disk.yandex.ru/d/TxOD_JxnkMd4mA', sep=';')\n",
    "users_control_2 = pd.read_csv('https://getfile.dokpub.com/yandex/get/https://disk.yandex.ru/d/YT6OWRK2cTWfLg', sep=';')"
   ]
  },
  {
   "cell_type": "code",
   "execution_count": 92,
   "metadata": {},
   "outputs": [],
   "source": [
    "# Транзакции\n",
    "transactions_test = pd.read_csv('https://getfile.dokpub.com/yandex/get/https://disk.yandex.ru/d/3viYBnm7cyihkQ', sep=';', \\\n",
    "                               parse_dates=['paid_at', 'joined_at'])\n",
    "transactions_control_1 = pd.read_csv('https://getfile.dokpub.com/yandex/get/https://disk.yandex.ru/d/84jzzJeQ4tqVyg', sep=';', \\\n",
    "                               parse_dates=['paid_at', 'joined_at'])\n",
    "transactions_control_2 = pd.read_csv('https://getfile.dokpub.com/yandex/get/https://disk.yandex.ru/d/_pOo7mrDCZZMyA', sep=';', \\\n",
    "                               parse_dates=['paid_at', 'joined_at'])"
   ]
  },
  {
   "cell_type": "markdown",
   "metadata": {},
   "source": [
    "## 2. Предварительный анализ"
   ]
  },
  {
   "cell_type": "code",
   "execution_count": 93,
   "metadata": {},
   "outputs": [
    {
     "data": {
      "text/plain": [
       "<matplotlib.axes._subplots.AxesSubplot at 0x7f196bdc6470>"
      ]
     },
     "execution_count": 93,
     "metadata": {},
     "output_type": "execute_result"
    },
    {
     "data": {
      "image/png": "[encoded data removed]",
      "text/plain": [
       "<Figure size 1152x648 with 1 Axes>"
      ]
     },
     "metadata": {},
     "output_type": "display_data"
    }
   ],
   "source": [
    "users_test.age.hist()"
   ]
  },
  {
   "cell_type": "markdown",
   "metadata": {},
   "source": [
    "Можно заметить, что есть небольшое количество пользователей, которые скорее всего указали не свой возраст, применим к ним функция change_age"
   ]
  },
  {
   "cell_type": "code",
   "execution_count": 94,
   "metadata": {},
   "outputs": [],
   "source": [
    "# Правим даты\n",
    "transactions_test = correct_date(transactions_test)"
   ]
  },
  {
   "cell_type": "code",
   "execution_count": 95,
   "metadata": {},
   "outputs": [],
   "source": [
    "transactions_control_1 = correct_date(transactions_control_1)"
   ]
  },
  {
   "cell_type": "code",
   "execution_count": 96,
   "metadata": {},
   "outputs": [],
   "source": [
    "transactions_control_2 = correct_date(transactions_control_2)"
   ]
  },
  {
   "cell_type": "code",
   "execution_count": 97,
   "metadata": {},
   "outputs": [],
   "source": [
    "# Проводим преодобработку данных\n",
    "users_test = process_data(change_age(users_test))"
   ]
  },
  {
   "cell_type": "code",
   "execution_count": 98,
   "metadata": {},
   "outputs": [],
   "source": [
    "users_control_1 = process_data(change_age(users_control_1))"
   ]
  },
  {
   "cell_type": "code",
   "execution_count": 99,
   "metadata": {},
   "outputs": [],
   "source": [
    "users_control_2 = process_data(change_age(users_control_2))"
   ]
  },
  {
   "cell_type": "code",
   "execution_count": 100,
   "metadata": {},
   "outputs": [],
   "source": [
    "transactions_test = process_data(transactions_test)"
   ]
  },
  {
   "cell_type": "code",
   "execution_count": 101,
   "metadata": {},
   "outputs": [],
   "source": [
    "transactions_control_1 = process_data(transactions_control_1)"
   ]
  },
  {
   "cell_type": "code",
   "execution_count": 102,
   "metadata": {},
   "outputs": [],
   "source": [
    "transactions_control_2 = process_data(transactions_control_2)"
   ]
  },
  {
   "cell_type": "markdown",
   "metadata": {},
   "source": [
    "Для удобства объединим в один датасет все таблицы с пользователями, но перед этим добавим колонку с меткой, к какой группе относится пользователь"
   ]
  },
  {
   "cell_type": "code",
   "execution_count": 103,
   "metadata": {},
   "outputs": [],
   "source": [
    "users_test['group'] = 'test'\n",
    "users_control_1['group'] = 'control_1'\n",
    "users_control_2['group'] = 'control_2'\n",
    "users_full = pd.concat([users_test, users_control_1, users_control_2])"
   ]
  },
  {
   "cell_type": "markdown",
   "metadata": {},
   "source": [
    "Тоже самое сделаем для таблиц с оплатами"
   ]
  },
  {
   "cell_type": "code",
   "execution_count": 104,
   "metadata": {},
   "outputs": [],
   "source": [
    "transactions_test['group'] = 'test'\n",
    "transactions_control_1['group'] = 'control_1'\n",
    "transactions_control_2['group'] = 'control_2'\n",
    "transactions_full = pd.concat([transactions_test, transactions_control_1, transactions_control_2])"
   ]
  },
  {
   "cell_type": "code",
   "execution_count": 105,
   "metadata": {},
   "outputs": [
    {
     "name": "stdout",
     "output_type": "stream",
     "text": [
      " Дата первой транзакции в тестовой группе: 2017-02-11 13:43:00 \n",
      " Дата последней транзакции в тестовой группе: 2017-12-11 22:06:00\n",
      "\n",
      " Дата первой транзакции в контр. группе 1: 2016-12-14 16:16:00 \n",
      " Дата последней транзакции в контр. группе 1: 2017-12-11 21:57:00\n",
      "\n",
      " Дата первой транзакции в контр. группе 2: 2017-02-11 21:52:00 \n",
      " Дата последней транзакции в контр. группе 2: 2017-12-11 23:28:00\n"
     ]
    }
   ],
   "source": [
    "# Узнаем в какой период проводилось тестирование\n",
    "\n",
    "print( ' Дата первой транзакции в тестовой группе:', transactions_test['paid_at'].min(),'\\n', \\\n",
    "       'Дата последней транзакции в тестовой группе:', transactions_test['paid_at'].max())\n",
    "\n",
    "print( '\\n Дата первой транзакции в контр. группе 1:', transactions_control_1['paid_at'].min(),'\\n', \\\n",
    "       'Дата последней транзакции в контр. группе 1:', transactions_control_1['paid_at'].max())\n",
    "\n",
    "print( '\\n Дата первой транзакции в контр. группе 2:', transactions_control_2['paid_at'].min(),'\\n', \\\n",
    "       'Дата последней транзакции в контр. группе 2:', transactions_control_2['paid_at'].max())"
   ]
  },
  {
   "cell_type": "markdown",
   "metadata": {},
   "source": [
    "Видим, что в первой контрольной группе есть пользователь, совершивший оплату раньше, чем остальные, посмотрим на него внимательно."
   ]
  },
  {
   "cell_type": "code",
   "execution_count": 106,
   "metadata": {},
   "outputs": [
    {
     "data": {
      "text/html": [
       "<div>\n",
       "<style scoped>\n",
       "    .dataframe tbody tr th:only-of-type {\n",
       "        vertical-align: middle;\n",
       "    }\n",
       "\n",
       "    .dataframe tbody tr th {\n",
       "        vertical-align: top;\n",
       "    }\n",
       "\n",
       "    .dataframe thead th {\n",
       "        text-align: right;\n",
       "    }\n",
       "</style>\n",
       "<table border=\"1\" class=\"dataframe\">\n",
       "  <thead>\n",
       "    <tr style=\"text-align: right;\">\n",
       "      <th></th>\n",
       "      <th>uid</th>\n",
       "      <th>country</th>\n",
       "      <th>joined_at</th>\n",
       "      <th>paid_at</th>\n",
       "      <th>revenue</th>\n",
       "      <th>payment_id</th>\n",
       "      <th>from_page</th>\n",
       "      <th>product_type</th>\n",
       "      <th>group</th>\n",
       "    </tr>\n",
       "  </thead>\n",
       "  <tbody>\n",
       "    <tr>\n",
       "      <th>65</th>\n",
       "      <td>960936960</td>\n",
       "      <td>Russian Federation</td>\n",
       "      <td>2015-01-19 11:49:00</td>\n",
       "      <td>2016-12-14 17:30:00</td>\n",
       "      <td>26</td>\n",
       "      <td>0</td>\n",
       "      <td>refund_VP</td>\n",
       "      <td>other_type</td>\n",
       "      <td>control_1</td>\n",
       "    </tr>\n",
       "    <tr>\n",
       "      <th>101</th>\n",
       "      <td>960936960</td>\n",
       "      <td>Russian Federation</td>\n",
       "      <td>2015-01-19 11:49:00</td>\n",
       "      <td>2016-12-14 17:35:00</td>\n",
       "      <td>637</td>\n",
       "      <td>0</td>\n",
       "      <td>refung_AP</td>\n",
       "      <td>other_type</td>\n",
       "      <td>control_1</td>\n",
       "    </tr>\n",
       "    <tr>\n",
       "      <th>224</th>\n",
       "      <td>960936960</td>\n",
       "      <td>Russian Federation</td>\n",
       "      <td>2015-01-19 11:49:00</td>\n",
       "      <td>2016-12-14 16:16:00</td>\n",
       "      <td>143</td>\n",
       "      <td>0</td>\n",
       "      <td>refund_WP</td>\n",
       "      <td>other_type</td>\n",
       "      <td>control_1</td>\n",
       "    </tr>\n",
       "  </tbody>\n",
       "</table>\n",
       "</div>"
      ],
      "text/plain": [
       "           uid             country           joined_at             paid_at  \\\n",
       "65   960936960  Russian Federation 2015-01-19 11:49:00 2016-12-14 17:30:00   \n",
       "101  960936960  Russian Federation 2015-01-19 11:49:00 2016-12-14 17:35:00   \n",
       "224  960936960  Russian Federation 2015-01-19 11:49:00 2016-12-14 16:16:00   \n",
       "\n",
       "     revenue  payment_id  from_page product_type      group  \n",
       "65        26           0  refund_VP   other_type  control_1  \n",
       "101      637           0  refung_AP   other_type  control_1  \n",
       "224      143           0  refund_WP   other_type  control_1  "
      ]
     },
     "execution_count": 106,
     "metadata": {},
     "output_type": "execute_result"
    }
   ],
   "source": [
    "transactions_control_1.query('paid_at < 2017')"
   ]
  },
  {
   "cell_type": "markdown",
   "metadata": {},
   "source": [
    "Удалим его из датафрейма"
   ]
  },
  {
   "cell_type": "code",
   "execution_count": 107,
   "metadata": {},
   "outputs": [],
   "source": [
    "transactions_control_1 = transactions_control_1.query('uid != 960936960')"
   ]
  },
  {
   "cell_type": "code",
   "execution_count": 108,
   "metadata": {},
   "outputs": [
    {
     "name": "stdout",
     "output_type": "stream",
     "text": [
      " Дата первой транзакции в тестовой группе: 2017-02-11 13:43:00 \n",
      " Дата последней транзакции в тестовой группе: 2017-12-11 22:06:00\n",
      "\n",
      " Дата первой транзакции в контр. группе 1: 2017-01-11 05:16:00 \n",
      " Дата последней транзакции в контр. группе 1: 2017-12-11 21:57:00\n",
      "\n",
      " Дата первой транзакции в контр. группе 2: 2017-02-11 21:52:00 \n",
      " Дата последней транзакции в контр. группе 2: 2017-12-11 23:28:00\n"
     ]
    }
   ],
   "source": [
    "# Узнаем в какой период проводилось тестирование после чистки данных\n",
    "\n",
    "print( ' Дата первой транзакции в тестовой группе:', transactions_test['paid_at'].min(),'\\n', \\\n",
    "       'Дата последней транзакции в тестовой группе:', transactions_test['paid_at'].max())\n",
    "\n",
    "print( '\\n Дата первой транзакции в контр. группе 1:', transactions_control_1['paid_at'].min(),'\\n', \\\n",
    "       'Дата последней транзакции в контр. группе 1:', transactions_control_1['paid_at'].max())\n",
    "\n",
    "print( '\\n Дата первой транзакции в контр. группе 2:', transactions_control_2['paid_at'].min(),'\\n', \\\n",
    "       'Дата последней транзакции в контр. группе 2:', transactions_control_2['paid_at'].max())"
   ]
  },
  {
   "cell_type": "code",
   "execution_count": 109,
   "metadata": {},
   "outputs": [
    {
     "data": {
      "image/png": "[encoded data removed]",
      "text/plain": [
       "<Figure size 1152x648 with 1 Axes>"
      ]
     },
     "metadata": {},
     "output_type": "display_data"
    }
   ],
   "source": [
    " # Построим боксплоты по выручке\n",
    "ax = sns.boxplot(data=users_full.query('total_revenue > 0'), x='total_revenue', y='group', palette='Dark2')\n",
    "ax.axes.set_title(\"Выручка по пользователям\", fontsize=18)\n",
    "ax.set_xlabel(\"Выручка\", fontsize=14)\n",
    "ax.set_ylabel(\"Группа\", fontsize=14)\n",
    "plt.show()"
   ]
  },
  {
   "cell_type": "markdown",
   "metadata": {},
   "source": [
    "Как видно на графиках, в обеих выборках (control_1 и control_2) присутствуют выбросы, в особенности в первой выборке, где максимальное значение total_revenue составило почти 500.000, данный вопрос требует более детального изучения"
   ]
  },
  {
   "cell_type": "markdown",
   "metadata": {},
   "source": [
    "Исследуем дополнительно наш выброс"
   ]
  },
  {
   "cell_type": "code",
   "execution_count": 110,
   "metadata": {},
   "outputs": [
    {
     "data": {
      "text/html": [
       "<div>\n",
       "<style scoped>\n",
       "    .dataframe tbody tr th:only-of-type {\n",
       "        vertical-align: middle;\n",
       "    }\n",
       "\n",
       "    .dataframe tbody tr th {\n",
       "        vertical-align: top;\n",
       "    }\n",
       "\n",
       "    .dataframe thead th {\n",
       "        text-align: right;\n",
       "    }\n",
       "</style>\n",
       "<table border=\"1\" class=\"dataframe\">\n",
       "  <thead>\n",
       "    <tr style=\"text-align: right;\">\n",
       "      <th></th>\n",
       "      <th>uid</th>\n",
       "      <th>age</th>\n",
       "      <th>attraction_coeff</th>\n",
       "      <th>coins</th>\n",
       "      <th>country</th>\n",
       "      <th>visit_days</th>\n",
       "      <th>gender</th>\n",
       "      <th>age_filter_start</th>\n",
       "      <th>age_filter_end</th>\n",
       "      <th>views_count</th>\n",
       "      <th>was_premium</th>\n",
       "      <th>is_premium</th>\n",
       "      <th>total_revenue</th>\n",
       "      <th>group</th>\n",
       "    </tr>\n",
       "  </thead>\n",
       "  <tbody>\n",
       "    <tr>\n",
       "      <th>1427</th>\n",
       "      <td>892333905</td>\n",
       "      <td>22</td>\n",
       "      <td>175</td>\n",
       "      <td>3608</td>\n",
       "      <td>Italy</td>\n",
       "      <td>1,2,3,4,5,6,7,15</td>\n",
       "      <td>1</td>\n",
       "      <td>19</td>\n",
       "      <td>25</td>\n",
       "      <td>575</td>\n",
       "      <td>1</td>\n",
       "      <td>1</td>\n",
       "      <td>486330</td>\n",
       "      <td>control_1</td>\n",
       "    </tr>\n",
       "  </tbody>\n",
       "</table>\n",
       "</div>"
      ],
      "text/plain": [
       "            uid  age  attraction_coeff  coins country        visit_days  \\\n",
       "1427  892333905   22               175   3608   Italy  1,2,3,4,5,6,7,15   \n",
       "\n",
       "      gender  age_filter_start  age_filter_end  views_count  was_premium  \\\n",
       "1427       1                19              25          575            1   \n",
       "\n",
       "      is_premium  total_revenue      group  \n",
       "1427           1         486330  control_1  "
      ]
     },
     "execution_count": 110,
     "metadata": {},
     "output_type": "execute_result"
    }
   ],
   "source": [
    "users_control_1.query('total_revenue > 400000')"
   ]
  },
  {
   "cell_type": "code",
   "execution_count": 111,
   "metadata": {},
   "outputs": [
    {
     "data": {
      "text/html": [
       "<div>\n",
       "<style scoped>\n",
       "    .dataframe tbody tr th:only-of-type {\n",
       "        vertical-align: middle;\n",
       "    }\n",
       "\n",
       "    .dataframe tbody tr th {\n",
       "        vertical-align: top;\n",
       "    }\n",
       "\n",
       "    .dataframe thead th {\n",
       "        text-align: right;\n",
       "    }\n",
       "</style>\n",
       "<table border=\"1\" class=\"dataframe\">\n",
       "  <thead>\n",
       "    <tr style=\"text-align: right;\">\n",
       "      <th></th>\n",
       "      <th>uid</th>\n",
       "      <th>country</th>\n",
       "      <th>joined_at</th>\n",
       "      <th>paid_at</th>\n",
       "      <th>revenue</th>\n",
       "      <th>payment_id</th>\n",
       "      <th>from_page</th>\n",
       "      <th>product_type</th>\n",
       "      <th>group</th>\n",
       "    </tr>\n",
       "  </thead>\n",
       "  <tbody>\n",
       "    <tr>\n",
       "      <th>49</th>\n",
       "      <td>892333905</td>\n",
       "      <td>Italy</td>\n",
       "      <td>2017-10-16 01:38:00</td>\n",
       "      <td>2017-10-16 01:42:00</td>\n",
       "      <td>3783</td>\n",
       "      <td>67</td>\n",
       "      <td>menu</td>\n",
       "      <td>other_type</td>\n",
       "      <td>control_1</td>\n",
       "    </tr>\n",
       "    <tr>\n",
       "      <th>13</th>\n",
       "      <td>892333905</td>\n",
       "      <td>Italy</td>\n",
       "      <td>2017-10-16 01:38:00</td>\n",
       "      <td>2017-10-16 01:44:00</td>\n",
       "      <td>3783</td>\n",
       "      <td>67</td>\n",
       "      <td>menu</td>\n",
       "      <td>other_type</td>\n",
       "      <td>control_1</td>\n",
       "    </tr>\n",
       "    <tr>\n",
       "      <th>28</th>\n",
       "      <td>892333905</td>\n",
       "      <td>Italy</td>\n",
       "      <td>2017-10-16 01:38:00</td>\n",
       "      <td>2017-10-16 01:57:00</td>\n",
       "      <td>3783</td>\n",
       "      <td>67</td>\n",
       "      <td>empty_admins</td>\n",
       "      <td>other_type</td>\n",
       "      <td>control_1</td>\n",
       "    </tr>\n",
       "    <tr>\n",
       "      <th>43</th>\n",
       "      <td>892333905</td>\n",
       "      <td>Italy</td>\n",
       "      <td>2017-10-16 01:38:00</td>\n",
       "      <td>2017-10-16 01:58:00</td>\n",
       "      <td>3783</td>\n",
       "      <td>67</td>\n",
       "      <td>empty_admins</td>\n",
       "      <td>other_type</td>\n",
       "      <td>control_1</td>\n",
       "    </tr>\n",
       "    <tr>\n",
       "      <th>6</th>\n",
       "      <td>892333905</td>\n",
       "      <td>Italy</td>\n",
       "      <td>2017-10-16 01:38:00</td>\n",
       "      <td>2017-10-16 02:08:00</td>\n",
       "      <td>12610</td>\n",
       "      <td>19</td>\n",
       "      <td>gifts</td>\n",
       "      <td>coins</td>\n",
       "      <td>control_1</td>\n",
       "    </tr>\n",
       "    <tr>\n",
       "      <th>137</th>\n",
       "      <td>892333905</td>\n",
       "      <td>Italy</td>\n",
       "      <td>2017-10-16 01:38:00</td>\n",
       "      <td>2017-10-16 02:08:00</td>\n",
       "      <td>31525</td>\n",
       "      <td>19</td>\n",
       "      <td>gifts</td>\n",
       "      <td>coins</td>\n",
       "      <td>control_1</td>\n",
       "    </tr>\n",
       "    <tr>\n",
       "      <th>289</th>\n",
       "      <td>892333905</td>\n",
       "      <td>Italy</td>\n",
       "      <td>2017-10-16 01:38:00</td>\n",
       "      <td>2017-10-16 02:08:00</td>\n",
       "      <td>3783</td>\n",
       "      <td>67</td>\n",
       "      <td>gifts</td>\n",
       "      <td>other_type</td>\n",
       "      <td>control_1</td>\n",
       "    </tr>\n",
       "    <tr>\n",
       "      <th>149</th>\n",
       "      <td>892333905</td>\n",
       "      <td>Italy</td>\n",
       "      <td>2017-10-16 01:38:00</td>\n",
       "      <td>2017-10-16 02:08:00</td>\n",
       "      <td>1261</td>\n",
       "      <td>19</td>\n",
       "      <td>gifts</td>\n",
       "      <td>coins</td>\n",
       "      <td>control_1</td>\n",
       "    </tr>\n",
       "    <tr>\n",
       "      <th>297</th>\n",
       "      <td>892333905</td>\n",
       "      <td>Italy</td>\n",
       "      <td>2017-10-16 01:38:00</td>\n",
       "      <td>2017-10-16 02:26:00</td>\n",
       "      <td>31525</td>\n",
       "      <td>19</td>\n",
       "      <td>menu</td>\n",
       "      <td>coins</td>\n",
       "      <td>control_1</td>\n",
       "    </tr>\n",
       "    <tr>\n",
       "      <th>316</th>\n",
       "      <td>892333905</td>\n",
       "      <td>Italy</td>\n",
       "      <td>2017-10-16 01:38:00</td>\n",
       "      <td>2017-10-16 02:52:00</td>\n",
       "      <td>31525</td>\n",
       "      <td>19</td>\n",
       "      <td>menu</td>\n",
       "      <td>coins</td>\n",
       "      <td>control_1</td>\n",
       "    </tr>\n",
       "    <tr>\n",
       "      <th>306</th>\n",
       "      <td>892333905</td>\n",
       "      <td>Italy</td>\n",
       "      <td>2017-10-16 01:38:00</td>\n",
       "      <td>2017-10-16 10:24:00</td>\n",
       "      <td>31525</td>\n",
       "      <td>19</td>\n",
       "      <td>menu</td>\n",
       "      <td>coins</td>\n",
       "      <td>control_1</td>\n",
       "    </tr>\n",
       "    <tr>\n",
       "      <th>143</th>\n",
       "      <td>892333905</td>\n",
       "      <td>Italy</td>\n",
       "      <td>2017-10-16 01:38:00</td>\n",
       "      <td>2017-10-16 13:10:00</td>\n",
       "      <td>63037</td>\n",
       "      <td>147</td>\n",
       "      <td>no_sympathy</td>\n",
       "      <td>premium_no_trial</td>\n",
       "      <td>control_1</td>\n",
       "    </tr>\n",
       "    <tr>\n",
       "      <th>76</th>\n",
       "      <td>892333905</td>\n",
       "      <td>Italy</td>\n",
       "      <td>2017-10-16 01:38:00</td>\n",
       "      <td>2017-10-16 18:42:00</td>\n",
       "      <td>31525</td>\n",
       "      <td>19</td>\n",
       "      <td>fans</td>\n",
       "      <td>coins</td>\n",
       "      <td>control_1</td>\n",
       "    </tr>\n",
       "    <tr>\n",
       "      <th>63</th>\n",
       "      <td>892333905</td>\n",
       "      <td>Italy</td>\n",
       "      <td>2017-10-16 01:38:00</td>\n",
       "      <td>2017-10-16 22:35:00</td>\n",
       "      <td>31525</td>\n",
       "      <td>19</td>\n",
       "      <td>menu</td>\n",
       "      <td>coins</td>\n",
       "      <td>control_1</td>\n",
       "    </tr>\n",
       "    <tr>\n",
       "      <th>126</th>\n",
       "      <td>892333905</td>\n",
       "      <td>Italy</td>\n",
       "      <td>2017-10-16 01:38:00</td>\n",
       "      <td>2017-10-16 22:39:00</td>\n",
       "      <td>19773</td>\n",
       "      <td>146</td>\n",
       "      <td>menu</td>\n",
       "      <td>coins</td>\n",
       "      <td>control_1</td>\n",
       "    </tr>\n",
       "    <tr>\n",
       "      <th>256</th>\n",
       "      <td>892333905</td>\n",
       "      <td>Italy</td>\n",
       "      <td>2017-10-16 01:38:00</td>\n",
       "      <td>2017-10-17 00:40:00</td>\n",
       "      <td>31525</td>\n",
       "      <td>19</td>\n",
       "      <td>menu</td>\n",
       "      <td>coins</td>\n",
       "      <td>control_1</td>\n",
       "    </tr>\n",
       "    <tr>\n",
       "      <th>166</th>\n",
       "      <td>892333905</td>\n",
       "      <td>Italy</td>\n",
       "      <td>2017-10-16 01:38:00</td>\n",
       "      <td>2017-10-17 02:23:00</td>\n",
       "      <td>31525</td>\n",
       "      <td>19</td>\n",
       "      <td>menu</td>\n",
       "      <td>coins</td>\n",
       "      <td>control_1</td>\n",
       "    </tr>\n",
       "    <tr>\n",
       "      <th>358</th>\n",
       "      <td>892333905</td>\n",
       "      <td>Italy</td>\n",
       "      <td>2017-10-16 01:38:00</td>\n",
       "      <td>2017-10-17 02:23:00</td>\n",
       "      <td>3783</td>\n",
       "      <td>67</td>\n",
       "      <td>menu</td>\n",
       "      <td>other_type</td>\n",
       "      <td>control_1</td>\n",
       "    </tr>\n",
       "    <tr>\n",
       "      <th>335</th>\n",
       "      <td>892333905</td>\n",
       "      <td>Italy</td>\n",
       "      <td>2017-10-16 01:38:00</td>\n",
       "      <td>2017-10-17 20:53:00</td>\n",
       "      <td>31525</td>\n",
       "      <td>19</td>\n",
       "      <td>menu</td>\n",
       "      <td>coins</td>\n",
       "      <td>control_1</td>\n",
       "    </tr>\n",
       "  </tbody>\n",
       "</table>\n",
       "</div>"
      ],
      "text/plain": [
       "           uid country           joined_at             paid_at  revenue  \\\n",
       "49   892333905   Italy 2017-10-16 01:38:00 2017-10-16 01:42:00     3783   \n",
       "13   892333905   Italy 2017-10-16 01:38:00 2017-10-16 01:44:00     3783   \n",
       "28   892333905   Italy 2017-10-16 01:38:00 2017-10-16 01:57:00     3783   \n",
       "43   892333905   Italy 2017-10-16 01:38:00 2017-10-16 01:58:00     3783   \n",
       "6    892333905   Italy 2017-10-16 01:38:00 2017-10-16 02:08:00    12610   \n",
       "137  892333905   Italy 2017-10-16 01:38:00 2017-10-16 02:08:00    31525   \n",
       "289  892333905   Italy 2017-10-16 01:38:00 2017-10-16 02:08:00     3783   \n",
       "149  892333905   Italy 2017-10-16 01:38:00 2017-10-16 02:08:00     1261   \n",
       "297  892333905   Italy 2017-10-16 01:38:00 2017-10-16 02:26:00    31525   \n",
       "316  892333905   Italy 2017-10-16 01:38:00 2017-10-16 02:52:00    31525   \n",
       "306  892333905   Italy 2017-10-16 01:38:00 2017-10-16 10:24:00    31525   \n",
       "143  892333905   Italy 2017-10-16 01:38:00 2017-10-16 13:10:00    63037   \n",
       "76   892333905   Italy 2017-10-16 01:38:00 2017-10-16 18:42:00    31525   \n",
       "63   892333905   Italy 2017-10-16 01:38:00 2017-10-16 22:35:00    31525   \n",
       "126  892333905   Italy 2017-10-16 01:38:00 2017-10-16 22:39:00    19773   \n",
       "256  892333905   Italy 2017-10-16 01:38:00 2017-10-17 00:40:00    31525   \n",
       "166  892333905   Italy 2017-10-16 01:38:00 2017-10-17 02:23:00    31525   \n",
       "358  892333905   Italy 2017-10-16 01:38:00 2017-10-17 02:23:00     3783   \n",
       "335  892333905   Italy 2017-10-16 01:38:00 2017-10-17 20:53:00    31525   \n",
       "\n",
       "     payment_id     from_page      product_type      group  \n",
       "49           67          menu        other_type  control_1  \n",
       "13           67          menu        other_type  control_1  \n",
       "28           67  empty_admins        other_type  control_1  \n",
       "43           67  empty_admins        other_type  control_1  \n",
       "6            19         gifts             coins  control_1  \n",
       "137          19         gifts             coins  control_1  \n",
       "289          67         gifts        other_type  control_1  \n",
       "149          19         gifts             coins  control_1  \n",
       "297          19          menu             coins  control_1  \n",
       "316          19          menu             coins  control_1  \n",
       "306          19          menu             coins  control_1  \n",
       "143         147   no_sympathy  premium_no_trial  control_1  \n",
       "76           19          fans             coins  control_1  \n",
       "63           19          menu             coins  control_1  \n",
       "126         146          menu             coins  control_1  \n",
       "256          19          menu             coins  control_1  \n",
       "166          19          menu             coins  control_1  \n",
       "358          67          menu        other_type  control_1  \n",
       "335          19          menu             coins  control_1  "
      ]
     },
     "execution_count": 111,
     "metadata": {},
     "output_type": "execute_result"
    }
   ],
   "source": [
    "transactions_control_1.query('uid == 892333905').sort_values('paid_at')"
   ]
  },
  {
   "cell_type": "code",
   "execution_count": 112,
   "metadata": {},
   "outputs": [
    {
     "data": {
      "text/plain": [
       "0.1884074758635972"
      ]
     },
     "execution_count": 112,
     "metadata": {},
     "output_type": "execute_result"
    }
   ],
   "source": [
    "users_control_1.total_revenue.max() / users_control_1.total_revenue.sum()"
   ]
  },
  {
   "cell_type": "markdown",
   "metadata": {},
   "source": [
    "Видим, что в данных есть \"странный\" пользователь из Италии (скорее всего какой-то аферист из тиндера), сумма его покупок составляет 19 % от общей суммы, возьму на себя ответственность дропнуть данного персонажа."
   ]
  },
  {
   "cell_type": "code",
   "execution_count": 113,
   "metadata": {},
   "outputs": [],
   "source": [
    "transactions_control_1 = transactions_control_1.query('uid != 892333905')"
   ]
  },
  {
   "cell_type": "code",
   "execution_count": 114,
   "metadata": {},
   "outputs": [],
   "source": [
    "users_control_1 = users_control_1.query('uid != 892333905')"
   ]
  },
  {
   "cell_type": "code",
   "execution_count": 115,
   "metadata": {},
   "outputs": [
    {
     "data": {
      "image/png": "[encoded data removed]",
      "text/plain": [
       "<Figure size 1152x648 with 1 Axes>"
      ]
     },
     "metadata": {},
     "output_type": "display_data"
    }
   ],
   "source": [
    "# Построим боксплоты по выручке без выброса\n",
    "users_full = pd.concat([users_test, users_control_1, users_control_2])\n",
    "ax = sns.boxplot(data=users_full.query('total_revenue > 0'), x='total_revenue', y='group', palette='Dark2')\n",
    "ax.axes.set_title(\"Выручка по пользователям\", fontsize=18)\n",
    "ax.set_xlabel(\"Выручка\", fontsize=14)\n",
    "ax.set_ylabel(\"Группа\", fontsize=14)\n",
    "plt.show()"
   ]
  },
  {
   "cell_type": "markdown",
   "metadata": {},
   "source": [
    "Проверим распределение total_revenue на нормальность. Н0 для теста Шапиро-Уилка : нормальность распределения"
   ]
  },
  {
   "cell_type": "code",
   "execution_count": 116,
   "metadata": {},
   "outputs": [
    {
     "data": {
      "text/plain": [
       "ShapiroResult(statistic=0.14440131187438965, pvalue=0.0)"
      ]
     },
     "execution_count": 116,
     "metadata": {},
     "output_type": "execute_result"
    }
   ],
   "source": [
    "stats.shapiro(users_control_1.total_revenue)"
   ]
  },
  {
   "cell_type": "code",
   "execution_count": 117,
   "metadata": {},
   "outputs": [
    {
     "data": {
      "text/plain": [
       "ShapiroResult(statistic=0.1445736289024353, pvalue=0.0)"
      ]
     },
     "execution_count": 117,
     "metadata": {},
     "output_type": "execute_result"
    }
   ],
   "source": [
    "stats.shapiro(users_control_2.total_revenue)"
   ]
  },
  {
   "cell_type": "code",
   "execution_count": 118,
   "metadata": {},
   "outputs": [
    {
     "data": {
      "text/plain": [
       "ShapiroResult(statistic=0.5829354524612427, pvalue=1.5151389094921548e-27)"
      ]
     },
     "execution_count": 118,
     "metadata": {},
     "output_type": "execute_result"
    }
   ],
   "source": [
    "stats.shapiro(transactions_control_1.revenue)"
   ]
  },
  {
   "cell_type": "code",
   "execution_count": 119,
   "metadata": {},
   "outputs": [
    {
     "data": {
      "text/plain": [
       "ShapiroResult(statistic=0.5297449231147766, pvalue=1.7662834723952801e-28)"
      ]
     },
     "execution_count": 119,
     "metadata": {},
     "output_type": "execute_result"
    }
   ],
   "source": [
    "stats.shapiro(transactions_control_2.revenue)"
   ]
  },
  {
   "cell_type": "markdown",
   "metadata": {},
   "source": [
    "Т.к. во всех случаях pvalue < 0.05 отклоняем нулевую гипотезу, следовательно, распределение отклоняется от нормального"
   ]
  },
  {
   "cell_type": "markdown",
   "metadata": {},
   "source": [
    "## 3. Проверка качества сплитования. А/А тесты"
   ]
  },
  {
   "cell_type": "markdown",
   "metadata": {},
   "source": [
    "У нас А/А/В тест с двумя контролями. Проверим качество сплитования:\n",
    "- ARPU\n",
    "- ARPPU\n",
    "\n",
    "Необходимо выбрать статистичеcкий оценщик, которым может быть t-тест, критерий Манна-Уитни или бутстрап. Для t-теста необходимым условием является соблюдение требования о нормальности распределения, что в нашем случае не соблюдается, кроме того, все еще присутствуют выбросы. Таким образом, можно использовать критерий Манна-Уитни или бутстрап. Воспользуемся критерием Манна-Уитни. Н0 для критерия Манна-Уитни:  равенство распределений в двух группах (случайно выбранное значение из одной выборки может быть равновероятно больше или меньше случайного значения из другой выборки)."
   ]
  },
  {
   "cell_type": "code",
   "execution_count": 120,
   "metadata": {},
   "outputs": [
    {
     "data": {
      "text/plain": [
       "0.0364"
      ]
     },
     "execution_count": 120,
     "metadata": {},
     "output_type": "execute_result"
    }
   ],
   "source": [
    "aa_test(mannwhitneyu, users_control_1.total_revenue, users_control_2.total_revenue)"
   ]
  },
  {
   "cell_type": "code",
   "execution_count": 121,
   "metadata": {},
   "outputs": [
    {
     "data": {
      "text/plain": [
       "0.0"
      ]
     },
     "execution_count": 121,
     "metadata": {},
     "output_type": "execute_result"
    }
   ],
   "source": [
    "aa_test(mannwhitneyu, users_control_1.query('total_revenue > 0').total_revenue, \\\n",
    "                      users_control_2.query('total_revenue > 0').total_revenue)"
   ]
  },
  {
   "cell_type": "code",
   "execution_count": 122,
   "metadata": {},
   "outputs": [
    {
     "data": {
      "text/plain": [
       "0.0"
      ]
     },
     "execution_count": 122,
     "metadata": {},
     "output_type": "execute_result"
    }
   ],
   "source": [
    "aa_test(mannwhitneyu, transactions_control_1.revenue, transactions_control_2.revenue)"
   ]
  },
  {
   "cell_type": "markdown",
   "metadata": {},
   "source": [
    "Тесты не выявили статистически значимых различий в значении показателя total_revenue для conrol_1 и conrol_2, полагаем, что система сплитования работает корректно, следовательно, можно объединить две контрольных группы."
   ]
  },
  {
   "cell_type": "code",
   "execution_count": 123,
   "metadata": {},
   "outputs": [],
   "source": [
    "users_full['group'] = users_full['group'].apply(lambda x: 'test' if x == 'test' else 'control')"
   ]
  },
  {
   "cell_type": "code",
   "execution_count": 124,
   "metadata": {},
   "outputs": [],
   "source": [
    "transactions_full['group'] = transactions_full['group'].apply(lambda x: 'test' if x == 'test' else 'control')"
   ]
  },
  {
   "cell_type": "markdown",
   "metadata": {},
   "source": [
    "Посмотрим как распределены пропорции по выборкам"
   ]
  },
  {
   "cell_type": "code",
   "execution_count": 125,
   "metadata": {},
   "outputs": [
    {
     "data": {
      "text/html": [
       "<div>\n",
       "<style scoped>\n",
       "    .dataframe tbody tr th:only-of-type {\n",
       "        vertical-align: middle;\n",
       "    }\n",
       "\n",
       "    .dataframe tbody tr th {\n",
       "        vertical-align: top;\n",
       "    }\n",
       "\n",
       "    .dataframe thead th {\n",
       "        text-align: right;\n",
       "    }\n",
       "</style>\n",
       "<table border=\"1\" class=\"dataframe\">\n",
       "  <thead>\n",
       "    <tr style=\"text-align: right;\">\n",
       "      <th></th>\n",
       "      <th>age</th>\n",
       "      <th>gender</th>\n",
       "      <th>is_premium</th>\n",
       "      <th>total_revenue</th>\n",
       "    </tr>\n",
       "  </thead>\n",
       "  <tbody>\n",
       "    <tr>\n",
       "      <th>count</th>\n",
       "      <td>4308.000000</td>\n",
       "      <td>4308.00000</td>\n",
       "      <td>4308.000000</td>\n",
       "      <td>4308.000000</td>\n",
       "    </tr>\n",
       "    <tr>\n",
       "      <th>mean</th>\n",
       "      <td>31.777855</td>\n",
       "      <td>0.95311</td>\n",
       "      <td>0.036444</td>\n",
       "      <td>534.080316</td>\n",
       "    </tr>\n",
       "  </tbody>\n",
       "</table>\n",
       "</div>"
      ],
      "text/plain": [
       "               age      gender   is_premium  total_revenue\n",
       "count  4308.000000  4308.00000  4308.000000    4308.000000\n",
       "mean     31.777855     0.95311     0.036444     534.080316"
      ]
     },
     "execution_count": 125,
     "metadata": {},
     "output_type": "execute_result"
    }
   ],
   "source": [
    "users_test.describe()[['age', 'gender', 'is_premium', 'total_revenue']][:2]"
   ]
  },
  {
   "cell_type": "code",
   "execution_count": 126,
   "metadata": {},
   "outputs": [
    {
     "data": {
      "text/html": [
       "<div>\n",
       "<style scoped>\n",
       "    .dataframe tbody tr th:only-of-type {\n",
       "        vertical-align: middle;\n",
       "    }\n",
       "\n",
       "    .dataframe tbody tr th {\n",
       "        vertical-align: top;\n",
       "    }\n",
       "\n",
       "    .dataframe thead th {\n",
       "        text-align: right;\n",
       "    }\n",
       "</style>\n",
       "<table border=\"1\" class=\"dataframe\">\n",
       "  <thead>\n",
       "    <tr style=\"text-align: right;\">\n",
       "      <th></th>\n",
       "      <th>age</th>\n",
       "      <th>gender</th>\n",
       "      <th>is_premium</th>\n",
       "      <th>total_revenue</th>\n",
       "    </tr>\n",
       "  </thead>\n",
       "  <tbody>\n",
       "    <tr>\n",
       "      <th>count</th>\n",
       "      <td>4339.000000</td>\n",
       "      <td>4339.000000</td>\n",
       "      <td>4339.000000</td>\n",
       "      <td>4339.000000</td>\n",
       "    </tr>\n",
       "    <tr>\n",
       "      <th>mean</th>\n",
       "      <td>32.008988</td>\n",
       "      <td>0.958055</td>\n",
       "      <td>0.044019</td>\n",
       "      <td>482.815626</td>\n",
       "    </tr>\n",
       "  </tbody>\n",
       "</table>\n",
       "</div>"
      ],
      "text/plain": [
       "               age       gender   is_premium  total_revenue\n",
       "count  4339.000000  4339.000000  4339.000000    4339.000000\n",
       "mean     32.008988     0.958055     0.044019     482.815626"
      ]
     },
     "execution_count": 126,
     "metadata": {},
     "output_type": "execute_result"
    }
   ],
   "source": [
    "users_control_1.describe()[['age', 'gender', 'is_premium', 'total_revenue']][:2]"
   ]
  },
  {
   "cell_type": "code",
   "execution_count": 127,
   "metadata": {},
   "outputs": [
    {
     "data": {
      "text/html": [
       "<div>\n",
       "<style scoped>\n",
       "    .dataframe tbody tr th:only-of-type {\n",
       "        vertical-align: middle;\n",
       "    }\n",
       "\n",
       "    .dataframe tbody tr th {\n",
       "        vertical-align: top;\n",
       "    }\n",
       "\n",
       "    .dataframe thead th {\n",
       "        text-align: right;\n",
       "    }\n",
       "</style>\n",
       "<table border=\"1\" class=\"dataframe\">\n",
       "  <thead>\n",
       "    <tr style=\"text-align: right;\">\n",
       "      <th></th>\n",
       "      <th>age</th>\n",
       "      <th>gender</th>\n",
       "      <th>is_premium</th>\n",
       "      <th>total_revenue</th>\n",
       "    </tr>\n",
       "  </thead>\n",
       "  <tbody>\n",
       "    <tr>\n",
       "      <th>count</th>\n",
       "      <td>4264.000000</td>\n",
       "      <td>4264.000000</td>\n",
       "      <td>4264.000000</td>\n",
       "      <td>4264.000000</td>\n",
       "    </tr>\n",
       "    <tr>\n",
       "      <th>mean</th>\n",
       "      <td>31.983583</td>\n",
       "      <td>0.954268</td>\n",
       "      <td>0.044794</td>\n",
       "      <td>450.384146</td>\n",
       "    </tr>\n",
       "  </tbody>\n",
       "</table>\n",
       "</div>"
      ],
      "text/plain": [
       "               age       gender   is_premium  total_revenue\n",
       "count  4264.000000  4264.000000  4264.000000    4264.000000\n",
       "mean     31.983583     0.954268     0.044794     450.384146"
      ]
     },
     "execution_count": 127,
     "metadata": {},
     "output_type": "execute_result"
    }
   ],
   "source": [
    "users_control_2.describe()[['age', 'gender', 'is_premium', 'total_revenue']][:2]"
   ]
  },
  {
   "cell_type": "markdown",
   "metadata": {},
   "source": [
    "Таким образом, анализ качества сплитования позволяет сделать вывод, что в исследуемых выборках соблюдаются пропорции в разрезе по ряду характеристик. Исключив из контрольной группы выбросы и проведя по ним А/А-тест, получаем p-value < 0.05, а значит, нет оснований отвергать нулевую гипотезу Н0. Значит контрольные группы для А/B-теста были сплитованы корректно.**"
   ]
  },
  {
   "cell_type": "markdown",
   "metadata": {},
   "source": [
    "##  4. Успешен ли эксперимент в общем"
   ]
  },
  {
   "cell_type": "code",
   "execution_count": 128,
   "metadata": {},
   "outputs": [
    {
     "data": {
      "text/html": [
       "<div>\n",
       "<style scoped>\n",
       "    .dataframe tbody tr th:only-of-type {\n",
       "        vertical-align: middle;\n",
       "    }\n",
       "\n",
       "    .dataframe tbody tr th {\n",
       "        vertical-align: top;\n",
       "    }\n",
       "\n",
       "    .dataframe thead th {\n",
       "        text-align: right;\n",
       "    }\n",
       "</style>\n",
       "<table border=\"1\" class=\"dataframe\">\n",
       "  <thead>\n",
       "    <tr style=\"text-align: right;\">\n",
       "      <th></th>\n",
       "      <th>group</th>\n",
       "      <th>ARPU</th>\n",
       "      <th>ARPPU</th>\n",
       "      <th>CR</th>\n",
       "    </tr>\n",
       "  </thead>\n",
       "  <tbody>\n",
       "    <tr>\n",
       "      <th>0</th>\n",
       "      <td>control</td>\n",
       "      <td>466.74</td>\n",
       "      <td>10622.69</td>\n",
       "      <td>0.044</td>\n",
       "    </tr>\n",
       "    <tr>\n",
       "      <th>1</th>\n",
       "      <td>test</td>\n",
       "      <td>534.08</td>\n",
       "      <td>15759.03</td>\n",
       "      <td>0.034</td>\n",
       "    </tr>\n",
       "  </tbody>\n",
       "</table>\n",
       "</div>"
      ],
      "text/plain": [
       "     group    ARPU     ARPPU     CR\n",
       "0  control  466.74  10622.69  0.044\n",
       "1     test  534.08  15759.03  0.034"
      ]
     },
     "execution_count": 128,
     "metadata": {},
     "output_type": "execute_result"
    }
   ],
   "source": [
    "# Посчитаем метрики для тестовой и объединённой контрольной группы\n",
    "metrics = pd.DataFrame({'ARPU': round(users_full.groupby('group').total_revenue.mean(), 2),\n",
    "                        'ARPPU': round(users_full.query('total_revenue > 0').groupby('group').total_revenue.mean(), 2),\n",
    "                        'CR': round(users_full.query('total_revenue > 0').groupby('group').uid.nunique() / \\\n",
    "                                    users_full.groupby('group').uid.nunique(), 3)\n",
    "                        }).reset_index ()\n",
    "metrics"
   ]
  },
  {
   "cell_type": "markdown",
   "metadata": {},
   "source": [
    "Как видно из результатов эксперимента средняя выручка на одного пользователя и средняя выручка на одного платящего пользователя в тестовой группе увеличилась, конверсия немного упала, проведем анализ для определенных групп."
   ]
  },
  {
   "cell_type": "markdown",
   "metadata": {},
   "source": [
    "##  5. Тип подписки"
   ]
  },
  {
   "cell_type": "code",
   "execution_count": 129,
   "metadata": {},
   "outputs": [],
   "source": [
    "product_type = transactions_full.groupby(['group', 'product_type'], as_index=False) \\\n",
    "                                .agg({'revenue': 'sum', 'uid': 'count',}) \\\n",
    "                                .rename(columns={'uid': 'transactions'})"
   ]
  },
  {
   "cell_type": "code",
   "execution_count": 130,
   "metadata": {},
   "outputs": [],
   "source": [
    "product_type['ARPU'] = round((product_type['revenue'] / product_type['transactions']), 2)"
   ]
  },
  {
   "cell_type": "code",
   "execution_count": 131,
   "metadata": {},
   "outputs": [
    {
     "data": {
      "image/png": "[encoded data removed]",
      "text/plain": [
       "<Figure size 1152x648 with 1 Axes>"
      ]
     },
     "metadata": {},
     "output_type": "display_data"
    },
    {
     "data": {
      "image/png": "[encoded data removed]",
      "text/plain": [
       "<Figure size 1152x648 with 1 Axes>"
      ]
     },
     "metadata": {},
     "output_type": "display_data"
    }
   ],
   "source": [
    " # Строим барплоты:\n",
    "plt.title(\"Транзакции по типу приобретаемого продукта\")\n",
    "sns.barplot(x=\"product_type\", y=\"transactions\", hue=\"group\", data=product_type)\n",
    "plt.show()\n",
    "\n",
    "plt.title(\"Зависимость среднего чека от типа приобретаемого продукта\")\n",
    "sns.barplot(x=\"product_type\", y=\"ARPU\", hue=\"group\", data=product_type)\n",
    "plt.show()"
   ]
  },
  {
   "cell_type": "markdown",
   "metadata": {},
   "source": [
    "По верхнему графику видно, что количество транзакций снизилось по каждому типу продукту, зато, средний чек вырос в каждом типе продукта."
   ]
  },
  {
   "cell_type": "markdown",
   "metadata": {},
   "source": [
    "## 6. Страны"
   ]
  },
  {
   "cell_type": "code",
   "execution_count": 132,
   "metadata": {},
   "outputs": [],
   "source": [
    "arrpu_country = transactions_full.groupby(['country', 'group'], as_index = False) \\\n",
    "                                 .agg({'revenue':'sum', 'payment_id':'count'}) \\\n",
    "                                 .rename(columns={'payment_id':'transactions'}) \\\n",
    "                                 .sort_values('country') \\\n",
    "                                 .reset_index()"
   ]
  },
  {
   "cell_type": "code",
   "execution_count": 133,
   "metadata": {},
   "outputs": [],
   "source": [
    "# Вычислим средний чек платящих пользователей у каждой страны:\n",
    "arrpu_country['ARPPU'] = (arrpu_country['revenue']/arrpu_country['transactions']).round(2) "
   ]
  },
  {
   "cell_type": "code",
   "execution_count": 134,
   "metadata": {},
   "outputs": [],
   "source": [
    "arrpu_country = arrpu_country.pivot(index='country', columns='group', values='ARPPU') \\\n",
    "                             .reset_index() \\\n",
    "                             .dropna(subset=['test', 'control'])"
   ]
  },
  {
   "cell_type": "code",
   "execution_count": 135,
   "metadata": {},
   "outputs": [],
   "source": [
    "# Посмотрим прирост для каждой страны\n",
    "arrpu_country['growth_arrpu'] = round(arrpu_country.test*100/arrpu_country.control - 100, 1)"
   ]
  },
  {
   "cell_type": "code",
   "execution_count": 136,
   "metadata": {},
   "outputs": [],
   "source": [
    "arrpu_country = arrpu_country.sort_values('growth_arrpu', ascending=False) \\\n",
    "                             .rename(columns={'control':'control_ARPPU', 'test':'test_ARPPU'})"
   ]
  },
  {
   "cell_type": "code",
   "execution_count": 137,
   "metadata": {},
   "outputs": [],
   "source": [
    "arpu_country = users_full.groupby(['country', 'group'], as_index=False) \\\n",
    "                         .agg({'total_revenue': 'mean'}) \\\n",
    "                         .round(2) \\\n",
    "                         .query('total_revenue > 0') \\\n",
    "                         .rename(columns={'total_revenue': 'ARPU'}) \\\n",
    "                         .pivot(index='country', columns='group', values='ARPU') \\\n",
    "                         .rename(columns={'control':'control_ARPU', 'test':'test_ARPU'}) \\\n",
    "                         .reset_index() \\\n",
    "                         .dropna(subset=['test_ARPU', 'control_ARPU'])"
   ]
  },
  {
   "cell_type": "code",
   "execution_count": 138,
   "metadata": {},
   "outputs": [],
   "source": [
    "arpu_country['growth_arpu'] = round(arpu_country.test_ARPU*100/arpu_country.control_ARPU - 100, 1)"
   ]
  },
  {
   "cell_type": "code",
   "execution_count": 139,
   "metadata": {},
   "outputs": [],
   "source": [
    "country_metric = arrpu_country.merge(arpu_country)"
   ]
  },
  {
   "cell_type": "code",
   "execution_count": 140,
   "metadata": {},
   "outputs": [
    {
     "data": {
      "text/html": [
       "<div>\n",
       "<style scoped>\n",
       "    .dataframe tbody tr th:only-of-type {\n",
       "        vertical-align: middle;\n",
       "    }\n",
       "\n",
       "    .dataframe tbody tr th {\n",
       "        vertical-align: top;\n",
       "    }\n",
       "\n",
       "    .dataframe thead th {\n",
       "        text-align: right;\n",
       "    }\n",
       "</style>\n",
       "<table border=\"1\" class=\"dataframe\">\n",
       "  <thead>\n",
       "    <tr style=\"text-align: right;\">\n",
       "      <th>group</th>\n",
       "      <th>country</th>\n",
       "      <th>control_ARPPU</th>\n",
       "      <th>test_ARPPU</th>\n",
       "      <th>growth_arrpu</th>\n",
       "      <th>control_ARPU</th>\n",
       "      <th>test_ARPU</th>\n",
       "      <th>growth_arpu</th>\n",
       "    </tr>\n",
       "  </thead>\n",
       "  <tbody>\n",
       "    <tr>\n",
       "      <th>0</th>\n",
       "      <td>Argentina</td>\n",
       "      <td>5876.58</td>\n",
       "      <td>18801.90</td>\n",
       "      <td>219.9</td>\n",
       "      <td>338.05</td>\n",
       "      <td>474.80</td>\n",
       "      <td>40.5</td>\n",
       "    </tr>\n",
       "    <tr>\n",
       "      <th>1</th>\n",
       "      <td>Australia</td>\n",
       "      <td>6825.00</td>\n",
       "      <td>12597.00</td>\n",
       "      <td>84.6</td>\n",
       "      <td>405.45</td>\n",
       "      <td>203.18</td>\n",
       "      <td>-49.9</td>\n",
       "    </tr>\n",
       "    <tr>\n",
       "      <th>2</th>\n",
       "      <td>Germany</td>\n",
       "      <td>6814.79</td>\n",
       "      <td>12012.00</td>\n",
       "      <td>76.3</td>\n",
       "      <td>244.63</td>\n",
       "      <td>459.79</td>\n",
       "      <td>88.0</td>\n",
       "    </tr>\n",
       "    <tr>\n",
       "      <th>3</th>\n",
       "      <td>United Arab Emirates</td>\n",
       "      <td>10704.78</td>\n",
       "      <td>17815.42</td>\n",
       "      <td>66.4</td>\n",
       "      <td>460.97</td>\n",
       "      <td>945.95</td>\n",
       "      <td>105.2</td>\n",
       "    </tr>\n",
       "    <tr>\n",
       "      <th>4</th>\n",
       "      <td>France</td>\n",
       "      <td>5515.03</td>\n",
       "      <td>8755.88</td>\n",
       "      <td>58.8</td>\n",
       "      <td>446.95</td>\n",
       "      <td>706.45</td>\n",
       "      <td>58.1</td>\n",
       "    </tr>\n",
       "    <tr>\n",
       "      <th>5</th>\n",
       "      <td>Spain</td>\n",
       "      <td>7508.67</td>\n",
       "      <td>11417.12</td>\n",
       "      <td>52.1</td>\n",
       "      <td>449.14</td>\n",
       "      <td>948.27</td>\n",
       "      <td>111.1</td>\n",
       "    </tr>\n",
       "    <tr>\n",
       "      <th>6</th>\n",
       "      <td>Israel</td>\n",
       "      <td>4556.82</td>\n",
       "      <td>6682.00</td>\n",
       "      <td>46.6</td>\n",
       "      <td>1001.70</td>\n",
       "      <td>894.42</td>\n",
       "      <td>-10.7</td>\n",
       "    </tr>\n",
       "    <tr>\n",
       "      <th>7</th>\n",
       "      <td>United States of America</td>\n",
       "      <td>6363.72</td>\n",
       "      <td>7992.81</td>\n",
       "      <td>25.6</td>\n",
       "      <td>438.92</td>\n",
       "      <td>497.82</td>\n",
       "      <td>13.4</td>\n",
       "    </tr>\n",
       "    <tr>\n",
       "      <th>8</th>\n",
       "      <td>Belgium</td>\n",
       "      <td>8658.00</td>\n",
       "      <td>10447.67</td>\n",
       "      <td>20.7</td>\n",
       "      <td>787.09</td>\n",
       "      <td>681.37</td>\n",
       "      <td>-13.4</td>\n",
       "    </tr>\n",
       "    <tr>\n",
       "      <th>9</th>\n",
       "      <td>United Kingdom (Great Britain)</td>\n",
       "      <td>5908.76</td>\n",
       "      <td>6448.00</td>\n",
       "      <td>9.1</td>\n",
       "      <td>1011.77</td>\n",
       "      <td>457.85</td>\n",
       "      <td>-54.7</td>\n",
       "    </tr>\n",
       "    <tr>\n",
       "      <th>10</th>\n",
       "      <td>Chile</td>\n",
       "      <td>6064.12</td>\n",
       "      <td>5828.33</td>\n",
       "      <td>-3.9</td>\n",
       "      <td>359.83</td>\n",
       "      <td>257.13</td>\n",
       "      <td>-28.5</td>\n",
       "    </tr>\n",
       "    <tr>\n",
       "      <th>11</th>\n",
       "      <td>Canada</td>\n",
       "      <td>6129.50</td>\n",
       "      <td>5769.64</td>\n",
       "      <td>-5.9</td>\n",
       "      <td>457.43</td>\n",
       "      <td>463.26</td>\n",
       "      <td>1.3</td>\n",
       "    </tr>\n",
       "    <tr>\n",
       "      <th>12</th>\n",
       "      <td>Italy</td>\n",
       "      <td>7707.78</td>\n",
       "      <td>5671.25</td>\n",
       "      <td>-26.4</td>\n",
       "      <td>422.79</td>\n",
       "      <td>351.16</td>\n",
       "      <td>-16.9</td>\n",
       "    </tr>\n",
       "    <tr>\n",
       "      <th>13</th>\n",
       "      <td>Switzerland</td>\n",
       "      <td>6833.12</td>\n",
       "      <td>4451.20</td>\n",
       "      <td>-34.9</td>\n",
       "      <td>709.94</td>\n",
       "      <td>635.89</td>\n",
       "      <td>-10.4</td>\n",
       "    </tr>\n",
       "    <tr>\n",
       "      <th>14</th>\n",
       "      <td>Turkey</td>\n",
       "      <td>9137.70</td>\n",
       "      <td>4582.50</td>\n",
       "      <td>-49.9</td>\n",
       "      <td>7029.00</td>\n",
       "      <td>1833.00</td>\n",
       "      <td>-73.9</td>\n",
       "    </tr>\n",
       "  </tbody>\n",
       "</table>\n",
       "</div>"
      ],
      "text/plain": [
       "group                         country  control_ARPPU  test_ARPPU  \\\n",
       "0                           Argentina        5876.58    18801.90   \n",
       "1                           Australia        6825.00    12597.00   \n",
       "2                             Germany        6814.79    12012.00   \n",
       "3                United Arab Emirates       10704.78    17815.42   \n",
       "4                              France        5515.03     8755.88   \n",
       "5                               Spain        7508.67    11417.12   \n",
       "6                              Israel        4556.82     6682.00   \n",
       "7            United States of America        6363.72     7992.81   \n",
       "8                             Belgium        8658.00    10447.67   \n",
       "9      United Kingdom (Great Britain)        5908.76     6448.00   \n",
       "10                              Chile        6064.12     5828.33   \n",
       "11                             Canada        6129.50     5769.64   \n",
       "12                              Italy        7707.78     5671.25   \n",
       "13                        Switzerland        6833.12     4451.20   \n",
       "14                             Turkey        9137.70     4582.50   \n",
       "\n",
       "group  growth_arrpu  control_ARPU  test_ARPU  growth_arpu  \n",
       "0             219.9        338.05     474.80         40.5  \n",
       "1              84.6        405.45     203.18        -49.9  \n",
       "2              76.3        244.63     459.79         88.0  \n",
       "3              66.4        460.97     945.95        105.2  \n",
       "4              58.8        446.95     706.45         58.1  \n",
       "5              52.1        449.14     948.27        111.1  \n",
       "6              46.6       1001.70     894.42        -10.7  \n",
       "7              25.6        438.92     497.82         13.4  \n",
       "8              20.7        787.09     681.37        -13.4  \n",
       "9               9.1       1011.77     457.85        -54.7  \n",
       "10             -3.9        359.83     257.13        -28.5  \n",
       "11             -5.9        457.43     463.26          1.3  \n",
       "12            -26.4        422.79     351.16        -16.9  \n",
       "13            -34.9        709.94     635.89        -10.4  \n",
       "14            -49.9       7029.00    1833.00        -73.9  "
      ]
     },
     "execution_count": 140,
     "metadata": {},
     "output_type": "execute_result"
    }
   ],
   "source": [
    "country_metric"
   ]
  },
  {
   "cell_type": "markdown",
   "metadata": {},
   "source": [
    "Из данной таблицы видно, что эксперимент получился совсем неудачным для Turkey, Switzerland, Italy, Chile. Удачным для Argentina, Germany, United Arab Emirates, France, Spain, United States of America."
   ]
  },
  {
   "cell_type": "markdown",
   "metadata": {},
   "source": [
    "## 7. Возраст"
   ]
  },
  {
   "cell_type": "code",
   "execution_count": 141,
   "metadata": {},
   "outputs": [
    {
     "data": {
      "text/html": [
       "<div>\n",
       "<style scoped>\n",
       "    .dataframe tbody tr th:only-of-type {\n",
       "        vertical-align: middle;\n",
       "    }\n",
       "\n",
       "    .dataframe tbody tr th {\n",
       "        vertical-align: top;\n",
       "    }\n",
       "\n",
       "    .dataframe thead th {\n",
       "        text-align: right;\n",
       "    }\n",
       "</style>\n",
       "<table border=\"1\" class=\"dataframe\">\n",
       "  <thead>\n",
       "    <tr style=\"text-align: right;\">\n",
       "      <th></th>\n",
       "      <th>uid</th>\n",
       "      <th>age</th>\n",
       "      <th>attraction_coeff</th>\n",
       "      <th>coins</th>\n",
       "      <th>country</th>\n",
       "      <th>visit_days</th>\n",
       "      <th>gender</th>\n",
       "      <th>age_filter_start</th>\n",
       "      <th>age_filter_end</th>\n",
       "      <th>views_count</th>\n",
       "      <th>was_premium</th>\n",
       "      <th>is_premium</th>\n",
       "      <th>total_revenue</th>\n",
       "      <th>group</th>\n",
       "    </tr>\n",
       "  </thead>\n",
       "  <tbody>\n",
       "    <tr>\n",
       "      <th>2312</th>\n",
       "      <td>891682545</td>\n",
       "      <td>99</td>\n",
       "      <td>0</td>\n",
       "      <td>0</td>\n",
       "      <td>United States of America</td>\n",
       "      <td>&lt;NA&gt;</td>\n",
       "      <td>1</td>\n",
       "      <td>96</td>\n",
       "      <td>102</td>\n",
       "      <td>0</td>\n",
       "      <td>0</td>\n",
       "      <td>0</td>\n",
       "      <td>0</td>\n",
       "      <td>control</td>\n",
       "    </tr>\n",
       "  </tbody>\n",
       "</table>\n",
       "</div>"
      ],
      "text/plain": [
       "            uid  age  attraction_coeff  coins                   country  \\\n",
       "2312  891682545   99                 0      0  United States of America   \n",
       "\n",
       "     visit_days  gender  age_filter_start  age_filter_end  views_count  \\\n",
       "2312       <NA>       1                96             102            0   \n",
       "\n",
       "      was_premium  is_premium  total_revenue    group  \n",
       "2312            0           0              0  control  "
      ]
     },
     "execution_count": 141,
     "metadata": {},
     "output_type": "execute_result"
    }
   ],
   "source": [
    "users_full.query('age > 85')"
   ]
  },
  {
   "cell_type": "markdown",
   "metadata": {},
   "source": [
    "Видим, что есть пользователь, которому 99 лет, и который ищет себе пару в возрасте от 96 до 102, пожертвуем этим казановой"
   ]
  },
  {
   "cell_type": "code",
   "execution_count": 142,
   "metadata": {},
   "outputs": [],
   "source": [
    "users_full = users_full.query('age < 85')"
   ]
  },
  {
   "cell_type": "code",
   "execution_count": 143,
   "metadata": {},
   "outputs": [],
   "source": [
    "# Сгруппируем датафрейм по возрасту\n",
    "users_full['age_category'] = pd.cut(users_full['age'],\n",
    "                                    bins=[16,30,40,50,100],\n",
    "                                    labels=['16-29','30-40','40-50','50+'])"
   ]
  },
  {
   "cell_type": "code",
   "execution_count": 144,
   "metadata": {},
   "outputs": [],
   "source": [
    "# Посчитаем ARPU по тестовым и возрастным группам\n",
    "# pivot_table по умолчанию агрегирует по среднему\n",
    "ARPU_age = users_full.pivot_table(index='age_category',\n",
    "                                  columns='group',\n",
    "                                  values='total_revenue') \\\n",
    "                                 .rename_axis(None).round(2)"
   ]
  },
  {
   "cell_type": "code",
   "execution_count": 145,
   "metadata": {},
   "outputs": [
    {
     "data": {
      "image/png": "[encoded data removed]",
      "text/plain": [
       "<Figure size 1152x648 with 2 Axes>"
      ]
     },
     "metadata": {},
     "output_type": "display_data"
    }
   ],
   "source": [
    "'''для наглядности построим heatmap'''\n",
    "ax = sns.heatmap(ARPU_age, cmap='coolwarm',\n",
    "                 annot=True,\n",
    "                 fmt='')\n",
    "ax.axes.set_title('ARPU по возрастам', fontsize=18, pad=10)\n",
    "ax.set_xlabel(\"Группа\", fontsize=14)\n",
    "ax.set_ylabel(\"Возрастная категория\", fontsize=14)\n",
    "plt.show()"
   ]
  },
  {
   "cell_type": "markdown",
   "metadata": {},
   "source": [
    "Средний чек понизился у пользоветелей 16-29, самый большой прирост среднего чека у категории 30-40."
   ]
  },
  {
   "cell_type": "markdown",
   "metadata": {},
   "source": [
    "# Заключение\n",
    "- Было проведено А/А/В-тестирование, при сравнении показателей ARPU, ARPPU по контрольным группам статистически значимых различий выявлено не было, вследствие чего контрольные группы были объединены. Был применен для оценки статистической значимости непараметрический критерий Манна Уитни посколько распределение не является нормальным и присутствуют значительные выбросы. \n",
    "\n",
    "- В целом эксперимент нельзя назвать слишком успешным, при сравнении по группам, мы увидили что для некоторых стран и определенных возрастов эксперимент прошел удачно (Argentina, Germany, United Arab Emirates, France, Spain, United States of America) для других стран мы видим, что ARPPU и ARPU снизился. В тестовой группе в целом у нас увеличилсь ARPU и ARPPU, зато уменьшилась конверсия, число транзакций стало меньше."
   ]
  },
  {
   "cell_type": "code",
   "execution_count": null,
   "metadata": {},
   "outputs": [],
   "source": []
  }
 ],
 "metadata": {
  "kernelspec": {
   "display_name": "Python 3",
   "language": "python",
   "name": "python3"
  },
  "language_info": {
   "codemirror_mode": {
    "name": "ipython",
    "version": 3
   },
   "file_extension": ".py",
   "mimetype": "text/x-python",
   "name": "python",
   "nbconvert_exporter": "python",
   "pygments_lexer": "ipython3",
   "version": "3.7.3"
  }
 },
 "nbformat": 4,
 "nbformat_minor": 4
}
